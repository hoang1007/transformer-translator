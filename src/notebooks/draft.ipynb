{
 "cells": [
  {
   "cell_type": "code",
   "execution_count": 43,
   "metadata": {},
   "outputs": [
    {
     "name": "stderr",
     "output_type": "stream",
     "text": [
      "Found cached dataset mt_eng_vietnamese (/home/hoang/.cache/huggingface/datasets/mt_eng_vietnamese/iwslt2015-en-vi/1.0.0/53add551a01e9874588066f89d42925f9fad43db347199dad00f7e4b0c905a71)\n"
     ]
    }
   ],
   "source": [
    "from datasets import load_dataset\n",
    "\n",
    "dataset_name = \"mt_eng_vietnamese\"\n",
    "dataset = load_dataset(dataset_name, \"iwslt2015-en-vi\", split=\"train\")"
   ]
  },
  {
   "cell_type": "code",
   "execution_count": 21,
   "metadata": {},
   "outputs": [
    {
     "data": {
      "text/plain": [
       "{'en': 'And all of those pages were reviewed by another 400-plus scientists and reviewers , from 113 countries .',\n",
       " 'vi': 'Và tất cả các trang đều được xem xét bởi 400 khoa học gia và nhà phê bình khác từ 113 quốc gia .'}"
      ]
     },
     "execution_count": 21,
     "metadata": {},
     "output_type": "execute_result"
    }
   ],
   "source": [
    "dataset[\"translation\"][8]"
   ]
  },
  {
   "cell_type": "code",
   "execution_count": 26,
   "metadata": {},
   "outputs": [],
   "source": [
    "from transformers import AutoTokenizer\n",
    "\n",
    "tokenizer = AutoTokenizer.from_pretrained(\"bert-base-uncased\")"
   ]
  },
  {
   "cell_type": "code",
   "execution_count": 30,
   "metadata": {},
   "outputs": [
    {
     "data": {
      "text/plain": [
       "{'input_ids': tensor([[  101,  5586, 12694,  1024,  1996,  2671,  2369,  1037,  4785, 17653,\n",
       "           102]]), 'attention_mask': tensor([[1, 1, 1, 1, 1, 1, 1, 1, 1, 1, 1]])}"
      ]
     },
     "execution_count": 30,
     "metadata": {},
     "output_type": "execute_result"
    }
   ],
   "source": [
    "tokenizer(dataset[0][\"translation\"][\"en\"], return_token_type_ids=False, return_tensors=\"pt\")"
   ]
  },
  {
   "cell_type": "code",
   "execution_count": 44,
   "metadata": {},
   "outputs": [],
   "source": [
    "dataset.set_format(type=\"torch\")"
   ]
  },
  {
   "cell_type": "code",
   "execution_count": 45,
   "metadata": {},
   "outputs": [],
   "source": [
    "def tokenize(item):\n",
    "    item[\"en\"] = tokenizer(\n",
    "        item[\"translation\"][\"en\"],\n",
    "        truncation=True,\n",
    "        max_length=128,\n",
    "        return_token_type_ids=False,\n",
    "        return_tensors=\"pt\",\n",
    "    )\n",
    "\n",
    "    return item"
   ]
  },
  {
   "cell_type": "code",
   "execution_count": 46,
   "metadata": {},
   "outputs": [
    {
     "data": {
      "application/vnd.jupyter.widget-view+json": {
       "model_id": "85ce8535c267454d9d3746c44fbb9fe4",
       "version_major": 2,
       "version_minor": 0
      },
      "text/plain": [
       "  0%|          | 0/133318 [00:00<?, ?ex/s]"
      ]
     },
     "metadata": {},
     "output_type": "display_data"
    }
   ],
   "source": [
    "dts = dataset.map(tokenize)"
   ]
  },
  {
   "cell_type": "code",
   "execution_count": 2,
   "metadata": {},
   "outputs": [
    {
     "data": {
      "text/plain": [
       "tensor([[1, 1, 1, 1, 0, 0]])"
      ]
     },
     "execution_count": 2,
     "metadata": {},
     "output_type": "execute_result"
    }
   ],
   "source": [
    "import torch\n",
    "\n",
    "x = torch.tensor([[1, 1, 1, 1]])\n",
    "\n",
    "torch.nn.functional.pad(x, (0, 2), value=0)"
   ]
  },
  {
   "cell_type": "code",
   "execution_count": 47,
   "metadata": {},
   "outputs": [
    {
     "data": {
      "text/plain": [
       "{'translation': {'en': 'Rachel Pike : The science behind a climate headline',\n",
       "  'vi': 'Khoa học đằng sau một tiêu đề về khí hậu'},\n",
       " 'en': {'attention_mask': tensor([[1, 1, 1, 1, 1, 1, 1, 1, 1, 1, 1]]),\n",
       "  'input_ids': tensor([[  101,  5586, 12694,  1024,  1996,  2671,  2369,  1037,  4785, 17653,\n",
       "             102]])}}"
      ]
     },
     "execution_count": 47,
     "metadata": {},
     "output_type": "execute_result"
    }
   ],
   "source": [
    "dts[0]"
   ]
  },
  {
   "cell_type": "code",
   "execution_count": 25,
   "metadata": {},
   "outputs": [
    {
     "ename": "TypeError",
     "evalue": "unhashable type: 'list'",
     "output_type": "error",
     "traceback": [
      "\u001b[0;31m---------------------------------------------------------------------------\u001b[0m",
      "\u001b[0;31mTypeError\u001b[0m                                 Traceback (most recent call last)",
      "Cell \u001b[0;32mIn[25], line 3\u001b[0m\n\u001b[1;32m      1\u001b[0m \u001b[39mfrom\u001b[39;00m \u001b[39mutils\u001b[39;00m\u001b[39m.\u001b[39;00m\u001b[39mtext_processing\u001b[39;00m \u001b[39mimport\u001b[39;00m fix_contents\n\u001b[0;32m----> 3\u001b[0m fix_contents([[\u001b[39m\"\u001b[39;49m\u001b[39mi\u001b[39;49m\u001b[39m'\u001b[39;49m\u001b[39mam student\u001b[39;49m\u001b[39m\"\u001b[39;49m]])\n",
      "File \u001b[0;32m~/Workspace/transformer-translator/src/notebooks/../utils/text_processing.py:107\u001b[0m, in \u001b[0;36mfix_contents\u001b[0;34m(contents)\u001b[0m\n\u001b[1;32m    105\u001b[0m         new_contents \u001b[39m+\u001b[39m\u001b[39m=\u001b[39m char\n\u001b[1;32m    106\u001b[0m         \u001b[39mcontinue\u001b[39;00m\n\u001b[0;32m--> 107\u001b[0m     new_contents \u001b[39m+\u001b[39m\u001b[39m=\u001b[39m replace_dict\u001b[39m.\u001b[39;49mget(char, char)\n\u001b[1;32m    108\u001b[0m contents \u001b[39m=\u001b[39m new_contents\n\u001b[1;32m    110\u001b[0m \u001b[39m# second: add spaces\u001b[39;00m\n",
      "\u001b[0;31mTypeError\u001b[0m: unhashable type: 'list'"
     ]
    }
   ],
   "source": [
    "from utils.text_processing import fix_contents\n",
    "\n",
    "fix_contents([[\"i'am student\"]])"
   ]
  }
 ],
 "metadata": {
  "kernelspec": {
   "display_name": "Python 3",
   "language": "python",
   "name": "python3"
  },
  "language_info": {
   "codemirror_mode": {
    "name": "ipython",
    "version": 3
   },
   "file_extension": ".py",
   "mimetype": "text/x-python",
   "name": "python",
   "nbconvert_exporter": "python",
   "pygments_lexer": "ipython3",
   "version": "3.10.6"
  },
  "orig_nbformat": 4,
  "vscode": {
   "interpreter": {
    "hash": "916dbcbb3f70747c44a77c7bcd40155683ae19c65e1c03b4aa3499c5328201f1"
   }
  }
 },
 "nbformat": 4,
 "nbformat_minor": 2
}
